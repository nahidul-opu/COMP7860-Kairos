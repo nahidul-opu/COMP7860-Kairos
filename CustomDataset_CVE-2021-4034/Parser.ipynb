{
 "cells": [
  {
   "cell_type": "code",
   "execution_count": 1,
   "metadata": {},
   "outputs": [],
   "source": [
    "import json\n",
    "import functools\n",
    "import os\n",
    "import re\n",
    "from tqdm import tqdm\n",
    "import hashlib\n",
    "from datetime import datetime, timezone\n",
    "import time\n",
    "import pytz\n",
    "from time import mktime\n",
    "from datetime import datetime\n",
    "import time\n",
    "import pandas as pd"
   ]
  },
  {
   "cell_type": "code",
   "execution_count": 2,
   "metadata": {},
   "outputs": [
    {
     "name": "stderr",
     "output_type": "stream",
     "text": [
      "100%|██████████| 756/756 [00:00<00:00, 380750.94it/s]\n"
     ]
    }
   ],
   "source": [
    "# Initialize data containers\n",
    "src_data = {}\n",
    "dst_data = {} \n",
    "event_data = [] \n",
    "\n",
    "# Load the JSON file\n",
    "input_file = \"CVE-2021-4034.json\"  # Path to your file\n",
    "with open(input_file, \"r\", encoding=\"utf-8\") as f:\n",
    "    data = json.load(f)\n",
    "\n",
    "# Parse the data\n",
    "for entry in tqdm(data):\n",
    "    # Extract source (n)\n",
    "    if \"n\" in entry:\n",
    "        src = entry[\"n\"]\n",
    "        src_data[src[\"identity\"]] = {\n",
    "            \"pid\": src[\"properties\"].get(\"pid\"),\n",
    "            \"ppid\": src[\"properties\"].get(\"ppid\"),\n",
    "            \"exe\": src[\"properties\"].get(\"exe\"),\n",
    "            \"command_line\": src[\"properties\"].get(\"command line\"),\n",
    "            \"cwd\": src[\"properties\"].get(\"cwd\"),\n",
    "            \"hash\": src[\"properties\"].get(\"hash\"),\n",
    "            \"name\": src[\"properties\"].get(\"name\"),\n",
    "        }\n",
    "    \n",
    "    # Extract destination (m)\n",
    "    if \"m\" in entry:\n",
    "        dst = entry[\"m\"]\n",
    "        dst_data[dst[\"identity\"]] = {\n",
    "            \"path\": dst[\"properties\"].get(\"path\"),\n",
    "            \"permissions\": dst[\"properties\"].get(\"permissions\"),\n",
    "            \"hash\": dst[\"properties\"].get(\"hash\"),\n",
    "        }\n",
    "    \n",
    "    # Extract relationship properties\n",
    "    if \"relationship_properties\" in entry:\n",
    "        relationship = entry[\"relationship_properties\"]\n",
    "        event_data.append({\n",
    "            \"source\": entry[\"n\"][\"identity\"],  # Process\n",
    "            \"target\": entry[\"m\"][\"identity\"],  # File artifact\n",
    "            \"type\": relationship.get(\"type\"),\n",
    "            \"operation\": relationship.get(\"operation\"),\n",
    "            \"event_id\": relationship.get(\"event id\"),\n",
    "            \"time\": relationship.get(\"time\"),\n",
    "        })\n"
   ]
  },
  {
   "cell_type": "code",
   "execution_count": 11,
   "metadata": {},
   "outputs": [
    {
     "name": "stdout",
     "output_type": "stream",
     "text": [
      "Event Types: ['mmap (read)' 'load' 'close' 'execve' 'open' 'fork' 'exit' 'update'\n",
      " 'setuid' 'setgid']\n",
      "Event Types Category: ['Used' 'WasTriggeredBy']\n"
     ]
    }
   ],
   "source": [
    "df = pd.DataFrame(event_data)\n",
    "print(f\"Event Types: {df[\"operation\"].unique()}\")\n",
    "df = pd.DataFrame(event_data)\n",
    "print(f\"Event Types Category: {df[\"type\"].unique()}\")"
   ]
  },
  {
   "cell_type": "code",
   "execution_count": 7,
   "metadata": {},
   "outputs": [
    {
     "name": "stdout",
     "output_type": "stream",
     "text": [
      "Total Nodes: 192\n"
     ]
    }
   ],
   "source": [
    "print(f\"Total Nodes: {len(src_data.keys()) + len(dst_data.keys())}\" )"
   ]
  },
  {
   "cell_type": "code",
   "execution_count": null,
   "metadata": {},
   "outputs": [
    {
     "name": "stdout",
     "output_type": "stream",
     "text": [
      "Total Nodes: 756\n"
     ]
    }
   ],
   "source": [
    "print(f\"Total Events: {len(event_data) }\" )"
   ]
  }
 ],
 "metadata": {
  "kernelspec": {
   "display_name": "Python 3",
   "language": "python",
   "name": "python3"
  },
  "language_info": {
   "codemirror_mode": {
    "name": "ipython",
    "version": 3
   },
   "file_extension": ".py",
   "mimetype": "text/x-python",
   "name": "python",
   "nbconvert_exporter": "python",
   "pygments_lexer": "ipython3",
   "version": "3.12.7"
  }
 },
 "nbformat": 4,
 "nbformat_minor": 2
}
